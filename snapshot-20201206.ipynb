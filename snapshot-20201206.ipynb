{
  "nbformat": 4,
  "nbformat_minor": 0,
  "metadata": {
    "colab": {
      "name": "titanic.ipynb",
      "provenance": [],
      "collapsed_sections": [
        "t8YHtEOtwdJ-",
        "F08aKWFWJd_O",
        "_XRHcbgvOsby"
      ],
      "toc_visible": true
    },
    "kernelspec": {
      "name": "python3",
      "display_name": "Python 3"
    }
  },
  "cells": [
    {
      "cell_type": "markdown",
      "metadata": {
        "id": "MyVhbzYhmsXT"
      },
      "source": [
        "# Settings"
      ]
    },
    {
      "cell_type": "code",
      "metadata": {
        "id": "OAuGvsxvlCTX"
      },
      "source": [
        "# linear algebra\n",
        "import numpy as np \n",
        "\n",
        "# data processing\n",
        "import pandas as pd \n",
        "\n",
        "\n",
        "# data visualization\n",
        "import seaborn as sns\n",
        "%matplotlib inline\n",
        "from matplotlib import pyplot as plt\n",
        "from matplotlib import style\n"
      ],
      "execution_count": 278,
      "outputs": []
    },
    {
      "cell_type": "code",
      "metadata": {
        "id": "s3K6it611Tl-"
      },
      "source": [
        "train_url = 'https://raw.githubusercontent.com/cchinchia/Titanic-Challenge/main/data/train.csv'\n",
        "test_url = 'https://raw.githubusercontent.com/cchinchia/Titanic-Challenge/main/data/test.csv'\n",
        "\n",
        "train_df = pd.read_csv(train_url)\n",
        "test_df = pd.read_csv(test_url)"
      ],
      "execution_count": 279,
      "outputs": []
    },
    {
      "cell_type": "code",
      "metadata": {
        "id": "EbzvXOA2mwVx"
      },
      "source": [
        "# test_df.info()\n",
        "# train_df.info()\n",
        "train_des = train_df.describe()"
      ],
      "execution_count": 280,
      "outputs": []
    },
    {
      "cell_type": "code",
      "metadata": {
        "id": "BsRx3QGwp3EU"
      },
      "source": [
        "# missing data\n",
        "total = train_df.isnull().sum().sort_values(ascending=False)\n",
        "# print(total)\n",
        "percent = (train_df.isnull().sum() / train_df.isnull().count() * 100).sort_values(ascending=False).head(5)\n",
        "# print(percent)"
      ],
      "execution_count": 281,
      "outputs": []
    },
    {
      "cell_type": "markdown",
      "metadata": {
        "id": "t8YHtEOtwdJ-"
      },
      "source": [
        "# Analyze"
      ]
    },
    {
      "cell_type": "code",
      "metadata": {
        "id": "SjNljOA7wgGf",
        "colab": {
          "base_uri": "https://localhost:8080/"
        },
        "outputId": "c7a47496-95f8-4e0a-b628-7da5118e720c"
      },
      "source": [
        "# pd.set_option('display.max_columns', None)\n",
        "print(train_df.head(5))"
      ],
      "execution_count": 282,
      "outputs": [
        {
          "output_type": "stream",
          "text": [
            "   PassengerId  Survived  Pclass  ...     Fare Cabin  Embarked\n",
            "0            1         0       3  ...   7.2500   NaN         S\n",
            "1            2         1       1  ...  71.2833   C85         C\n",
            "2            3         1       3  ...   7.9250   NaN         S\n",
            "3            4         1       1  ...  53.1000  C123         S\n",
            "4            5         0       3  ...   8.0500   NaN         S\n",
            "\n",
            "[5 rows x 12 columns]\n"
          ],
          "name": "stdout"
        }
      ]
    },
    {
      "cell_type": "code",
      "metadata": {
        "id": "1o1hbowEw9KO"
      },
      "source": [
        "# gender survival stacked bar \n",
        "survived_female = len(train_df[(train_df['Survived'] == 1) & (train_df['Sex'] == 'female')].index)\n",
        "survived_male = len(train_df[(train_df['Survived'] == 1) & (train_df['Sex'] == 'male')].index)\n",
        "\n",
        "non_survived_female = len(train_df[(train_df['Survived'] == 0) & (train_df['Sex'] == 'female')].index)\n",
        "non_survived_male = len(train_df[(train_df['Survived'] == 0) & (train_df['Sex'] == 'male')].index)\n",
        "\n",
        "\n",
        "survived = [survived_female, survived_male]\n",
        "died = [non_survived_female, non_survived_male]\n",
        "\n",
        "# plt.bar(['female', 'male'], survived, color='g')\n",
        "# plt.bar(['female', 'male'], died, color='r', bottom=survived)\n",
        "# plt.show()"
      ],
      "execution_count": 283,
      "outputs": []
    },
    {
      "cell_type": "code",
      "metadata": {
        "id": "lV1dZD-zSK-y",
        "colab": {
          "base_uri": "https://localhost:8080/",
          "height": 0
        },
        "outputId": "93043c9b-b010-4da9-ec5d-1f2f6b9173b3"
      },
      "source": [
        "# male survival\n",
        "plt1 = sns.distplot(train_df[(train_df['Survived'] == 1) & (train_df['Sex'] == 'male')].Age.dropna(), label = 'survived', bins=18, kde = False)\n",
        "plt1 = sns.distplot(train_df[(train_df['Survived'] == 0) & (train_df['Sex'] == 'male')].Age.dropna(), label = 'non survived', bins=18, kde = False)\n",
        "plt1.legend()\n",
        "plt1.set_title('Male')\n"
      ],
      "execution_count": 284,
      "outputs": [
        {
          "output_type": "stream",
          "text": [
            "/usr/local/lib/python3.6/dist-packages/seaborn/distributions.py:2551: FutureWarning: `distplot` is a deprecated function and will be removed in a future version. Please adapt your code to use either `displot` (a figure-level function with similar flexibility) or `histplot` (an axes-level function for histograms).\n",
            "  warnings.warn(msg, FutureWarning)\n",
            "/usr/local/lib/python3.6/dist-packages/seaborn/distributions.py:2551: FutureWarning: `distplot` is a deprecated function and will be removed in a future version. Please adapt your code to use either `displot` (a figure-level function with similar flexibility) or `histplot` (an axes-level function for histograms).\n",
            "  warnings.warn(msg, FutureWarning)\n"
          ],
          "name": "stderr"
        },
        {
          "output_type": "execute_result",
          "data": {
            "text/plain": [
              "Text(0.5, 1.0, 'Male')"
            ]
          },
          "metadata": {
            "tags": []
          },
          "execution_count": 284
        },
        {
          "output_type": "display_data",
          "data": {
            "image/png": "[encoded data removed]",
            "text/plain": [
              "<Figure size 432x288 with 1 Axes>"
            ]
          },
          "metadata": {
            "tags": [],
            "needs_background": "light"
          }
        }
      ]
    },
    {
      "cell_type": "code",
      "metadata": {
        "id": "i0JEseQTSTS8",
        "colab": {
          "base_uri": "https://localhost:8080/",
          "height": 0
        },
        "outputId": "63f97c09-be7e-4fff-f4c5-e4a35a4e82a7"
      },
      "source": [
        "# female survival\n",
        "plt2 = sns.distplot(train_df[(train_df['Survived'] == 1) & (train_df['Sex'] == 'female')].Age.dropna(), label = 'survived', bins=18, kde = False)\n",
        "plt2 = sns.distplot(train_df[(train_df['Survived'] == 0) & (train_df['Sex'] == 'female')].Age.dropna(), label = 'non survived', bins=18, kde = False)\n",
        "plt2.legend()\n",
        "plt2.set_title('Female')"
      ],
      "execution_count": 285,
      "outputs": [
        {
          "output_type": "stream",
          "text": [
            "/usr/local/lib/python3.6/dist-packages/seaborn/distributions.py:2551: FutureWarning: `distplot` is a deprecated function and will be removed in a future version. Please adapt your code to use either `displot` (a figure-level function with similar flexibility) or `histplot` (an axes-level function for histograms).\n",
            "  warnings.warn(msg, FutureWarning)\n",
            "/usr/local/lib/python3.6/dist-packages/seaborn/distributions.py:2551: FutureWarning: `distplot` is a deprecated function and will be removed in a future version. Please adapt your code to use either `displot` (a figure-level function with similar flexibility) or `histplot` (an axes-level function for histograms).\n",
            "  warnings.warn(msg, FutureWarning)\n"
          ],
          "name": "stderr"
        },
        {
          "output_type": "execute_result",
          "data": {
            "text/plain": [
              "Text(0.5, 1.0, 'Female')"
            ]
          },
          "metadata": {
            "tags": []
          },
          "execution_count": 285
        },
        {
          "output_type": "display_data",
          "data": {
            "image/png": "[encoded data removed]",
            "text/plain": [
              "<Figure size 432x288 with 1 Axes>"
            ]
          },
          "metadata": {
            "tags": [],
            "needs_background": "light"
          }
        }
      ]
    },
    {
      "cell_type": "code",
      "metadata": {
        "id": "NXHc_1tkWqVB",
        "colab": {
          "base_uri": "https://localhost:8080/",
          "height": 0
        },
        "outputId": "7522b6f1-d8a5-4184-c6bb-f9eb69cc8c27"
      },
      "source": [
        "sns.violinplot(x='Sex', y='Age', hue='Survived', data=train_df, split=True)"
      ],
      "execution_count": 286,
      "outputs": [
        {
          "output_type": "execute_result",
          "data": {
            "text/plain": [
              "<matplotlib.axes._subplots.AxesSubplot at 0x7f0f9c446b38>"
            ]
          },
          "metadata": {
            "tags": []
          },
          "execution_count": 286
        },
        {
          "output_type": "display_data",
          "data": {
            "image/png": "[encoded data removed]",
            "text/plain": [
              "<Figure size 432x288 with 1 Axes>"
            ]
          },
          "metadata": {
            "tags": [],
            "needs_background": "light"
          }
        }
      ]
    },
    {
      "cell_type": "code",
      "metadata": {
        "id": "I94KkoFEX-_n",
        "colab": {
          "base_uri": "https://localhost:8080/",
          "height": 0
        },
        "outputId": "faeb3e6a-4035-45e1-e302-0af4f46b0185"
      },
      "source": [
        "# survival by ticket fare\n",
        "plt.figure()\n",
        "\n",
        "plt.hist([train_df[train_df['Survived']==1]['Fare'], train_df[train_df['Survived']==0]['Fare']], bins=50, color=['g', 'r'] ,stacked=True, density=True)\n",
        "plt.legend()\n"
      ],
      "execution_count": 287,
      "outputs": [
        {
          "output_type": "stream",
          "text": [
            "No handles with labels found to put in legend.\n"
          ],
          "name": "stderr"
        },
        {
          "output_type": "execute_result",
          "data": {
            "text/plain": [
              "<matplotlib.legend.Legend at 0x7f0f9c349eb8>"
            ]
          },
          "metadata": {
            "tags": []
          },
          "execution_count": 287
        },
        {
          "output_type": "display_data",
          "data": {
            "image/png": "[encoded data removed]",
            "text/plain": [
              "<Figure size 432x288 with 1 Axes>"
            ]
          },
          "metadata": {
            "tags": [],
            "needs_background": "light"
          }
        }
      ]
    },
    {
      "cell_type": "code",
      "metadata": {
        "id": "ivYV_f_jKhdv",
        "colab": {
          "base_uri": "https://localhost:8080/",
          "height": 0
        },
        "outputId": "1f4b7d20-90b9-4468-ecc4-c98b71f20c26"
      },
      "source": [
        "# survival by class\n",
        "sns.countplot(train_df['Pclass'], hue=train_df['Survived'])"
      ],
      "execution_count": 288,
      "outputs": [
        {
          "output_type": "stream",
          "text": [
            "/usr/local/lib/python3.6/dist-packages/seaborn/_decorators.py:43: FutureWarning: Pass the following variable as a keyword arg: x. From version 0.12, the only valid positional argument will be `data`, and passing other arguments without an explicit keyword will result in an error or misinterpretation.\n",
            "  FutureWarning\n"
          ],
          "name": "stderr"
        },
        {
          "output_type": "execute_result",
          "data": {
            "text/plain": [
              "<matplotlib.axes._subplots.AxesSubplot at 0x7f0f9d2125c0>"
            ]
          },
          "metadata": {
            "tags": []
          },
          "execution_count": 288
        },
        {
          "output_type": "display_data",
          "data": {
            "image/png": "[encoded data removed]",
            "text/plain": [
              "<Figure size 432x288 with 1 Axes>"
            ]
          },
          "metadata": {
            "tags": [],
            "needs_background": "light"
          }
        }
      ]
    },
    {
      "cell_type": "markdown",
      "metadata": {
        "id": "F08aKWFWJd_O"
      },
      "source": [
        "# Feature Engineering"
      ]
    },
    {
      "cell_type": "code",
      "metadata": {
        "id": "QkYLFYlLNQMW",
        "colab": {
          "base_uri": "https://localhost:8080/"
        },
        "outputId": "d7164923-68d2-421d-f72d-deb0695c6740"
      },
      "source": [
        "# combined dataframe\n",
        "combined_df = train_df.append(test_df)\n",
        "combined_df.drop(labels=['Survived', 'PassengerId'], axis=1)\n",
        "print(combined_df.shape)\n",
        "print(train_df.shape)"
      ],
      "execution_count": 289,
      "outputs": [
        {
          "output_type": "stream",
          "text": [
            "(1309, 12)\n",
            "(891, 12)\n"
          ],
          "name": "stdout"
        }
      ]
    },
    {
      "cell_type": "code",
      "metadata": {
        "id": "BdVF6fUdadP2"
      },
      "source": [
        "# process title\n",
        "Title_Dictionary = {\n",
        "    \"Capt\": \"Officer\",\n",
        "    \"Col\": \"Officer\",\n",
        "    \"Major\": \"Officer\",\n",
        "    \"Jonkheer\": \"Royalty\",\n",
        "    \"Don\": \"Royalty\",\n",
        "    \"Sir\" : \"Royalty\",\n",
        "    \"Dr\": \"Officer\",\n",
        "    \"Rev\": \"Officer\",\n",
        "    \"the Countess\":\"Royalty\",\n",
        "    \"Mme\": \"Mrs\",\n",
        "    \"Mlle\": \"Miss\",\n",
        "    \"Ms\": \"Mrs\",\n",
        "    \"Mr\" : \"Mr\",\n",
        "    \"Mrs\" : \"Mrs\",\n",
        "    \"Miss\" : \"Miss\",\n",
        "    \"Master\" : \"Master\",\n",
        "    \"Lady\" : \"Royalty\"\n",
        "}\n",
        "\n",
        "def get_titles():\n",
        "    # we extract the title from each name\n",
        "    combined_df['Title'] = combined_df['Name'].map(lambda name:name.split(',')[1].split('.')[0].strip())\n",
        "    \n",
        "    # a map of more aggregated title\n",
        "    # we map each title\n",
        "    combined_df['Title'] = combined_df.Title.map(Title_Dictionary)\n",
        "    # status('Title')\n",
        "    return combined_df"
      ],
      "execution_count": 290,
      "outputs": []
    },
    {
      "cell_type": "code",
      "metadata": {
        "id": "qBC_xxLtaqLt",
        "colab": {
          "base_uri": "https://localhost:8080/",
          "height": 0
        },
        "outputId": "f29d8982-9a79-471f-e388-0953ede75174"
      },
      "source": [
        "combined_df = get_titles()\n",
        "combined_df.head()"
      ],
      "execution_count": 291,
      "outputs": [
        {
          "output_type": "execute_result",
          "data": {
            "text/html": [
              "<div>\n",
              "<style scoped>\n",
              "    .dataframe tbody tr th:only-of-type {\n",
              "        vertical-align: middle;\n",
              "    }\n",
              "\n",
              "    .dataframe tbody tr th {\n",
              "        vertical-align: top;\n",
              "    }\n",
              "\n",
              "    .dataframe thead th {\n",
              "        text-align: right;\n",
              "    }\n",
              "</style>\n",
              "<table border=\"1\" class=\"dataframe\">\n",
              "  <thead>\n",
              "    <tr style=\"text-align: right;\">\n",
              "      <th></th>\n",
              "      <th>PassengerId</th>\n",
              "      <th>Survived</th>\n",
              "      <th>Pclass</th>\n",
              "      <th>Name</th>\n",
              "      <th>Sex</th>\n",
              "      <th>Age</th>\n",
              "      <th>SibSp</th>\n",
              "      <th>Parch</th>\n",
              "      <th>Ticket</th>\n",
              "      <th>Fare</th>\n",
              "      <th>Cabin</th>\n",
              "      <th>Embarked</th>\n",
              "      <th>Title</th>\n",
              "    </tr>\n",
              "  </thead>\n",
              "  <tbody>\n",
              "    <tr>\n",
              "      <th>0</th>\n",
              "      <td>1</td>\n",
              "      <td>0.0</td>\n",
              "      <td>3</td>\n",
              "      <td>Braund, Mr. Owen Harris</td>\n",
              "      <td>male</td>\n",
              "      <td>22.0</td>\n",
              "      <td>1</td>\n",
              "      <td>0</td>\n",
              "      <td>A/5 21171</td>\n",
              "      <td>7.2500</td>\n",
              "      <td>NaN</td>\n",
              "      <td>S</td>\n",
              "      <td>Mr</td>\n",
              "    </tr>\n",
              "    <tr>\n",
              "      <th>1</th>\n",
              "      <td>2</td>\n",
              "      <td>1.0</td>\n",
              "      <td>1</td>\n",
              "      <td>Cumings, Mrs. John Bradley (Florence Briggs Th...</td>\n",
              "      <td>female</td>\n",
              "      <td>38.0</td>\n",
              "      <td>1</td>\n",
              "      <td>0</td>\n",
              "      <td>PC 17599</td>\n",
              "      <td>71.2833</td>\n",
              "      <td>C85</td>\n",
              "      <td>C</td>\n",
              "      <td>Mrs</td>\n",
              "    </tr>\n",
              "    <tr>\n",
              "      <th>2</th>\n",
              "      <td>3</td>\n",
              "      <td>1.0</td>\n",
              "      <td>3</td>\n",
              "      <td>Heikkinen, Miss. Laina</td>\n",
              "      <td>female</td>\n",
              "      <td>26.0</td>\n",
              "      <td>0</td>\n",
              "      <td>0</td>\n",
              "      <td>STON/O2. 3101282</td>\n",
              "      <td>7.9250</td>\n",
              "      <td>NaN</td>\n",
              "      <td>S</td>\n",
              "      <td>Miss</td>\n",
              "    </tr>\n",
              "    <tr>\n",
              "      <th>3</th>\n",
              "      <td>4</td>\n",
              "      <td>1.0</td>\n",
              "      <td>1</td>\n",
              "      <td>Futrelle, Mrs. Jacques Heath (Lily May Peel)</td>\n",
              "      <td>female</td>\n",
              "      <td>35.0</td>\n",
              "      <td>1</td>\n",
              "      <td>0</td>\n",
              "      <td>113803</td>\n",
              "      <td>53.1000</td>\n",
              "      <td>C123</td>\n",
              "      <td>S</td>\n",
              "      <td>Mrs</td>\n",
              "    </tr>\n",
              "    <tr>\n",
              "      <th>4</th>\n",
              "      <td>5</td>\n",
              "      <td>0.0</td>\n",
              "      <td>3</td>\n",
              "      <td>Allen, Mr. William Henry</td>\n",
              "      <td>male</td>\n",
              "      <td>35.0</td>\n",
              "      <td>0</td>\n",
              "      <td>0</td>\n",
              "      <td>373450</td>\n",
              "      <td>8.0500</td>\n",
              "      <td>NaN</td>\n",
              "      <td>S</td>\n",
              "      <td>Mr</td>\n",
              "    </tr>\n",
              "  </tbody>\n",
              "</table>\n",
              "</div>"
            ],
            "text/plain": [
              "   PassengerId  Survived  Pclass  ... Cabin Embarked  Title\n",
              "0            1       0.0       3  ...   NaN        S     Mr\n",
              "1            2       1.0       1  ...   C85        C    Mrs\n",
              "2            3       1.0       3  ...   NaN        S   Miss\n",
              "3            4       1.0       1  ...  C123        S    Mrs\n",
              "4            5       0.0       3  ...   NaN        S     Mr\n",
              "\n",
              "[5 rows x 13 columns]"
            ]
          },
          "metadata": {
            "tags": []
          },
          "execution_count": 291
        }
      ]
    },
    {
      "cell_type": "code",
      "metadata": {
        "id": "9a6f1iBMbDiQ",
        "colab": {
          "base_uri": "https://localhost:8080/",
          "height": 0
        },
        "outputId": "bc7a04e5-9633-450d-ed94-64d7dd31c525"
      },
      "source": [
        "combined_df[combined_df['Title'].isnull()]"
      ],
      "execution_count": 292,
      "outputs": [
        {
          "output_type": "execute_result",
          "data": {
            "text/html": [
              "<div>\n",
              "<style scoped>\n",
              "    .dataframe tbody tr th:only-of-type {\n",
              "        vertical-align: middle;\n",
              "    }\n",
              "\n",
              "    .dataframe tbody tr th {\n",
              "        vertical-align: top;\n",
              "    }\n",
              "\n",
              "    .dataframe thead th {\n",
              "        text-align: right;\n",
              "    }\n",
              "</style>\n",
              "<table border=\"1\" class=\"dataframe\">\n",
              "  <thead>\n",
              "    <tr style=\"text-align: right;\">\n",
              "      <th></th>\n",
              "      <th>PassengerId</th>\n",
              "      <th>Survived</th>\n",
              "      <th>Pclass</th>\n",
              "      <th>Name</th>\n",
              "      <th>Sex</th>\n",
              "      <th>Age</th>\n",
              "      <th>SibSp</th>\n",
              "      <th>Parch</th>\n",
              "      <th>Ticket</th>\n",
              "      <th>Fare</th>\n",
              "      <th>Cabin</th>\n",
              "      <th>Embarked</th>\n",
              "      <th>Title</th>\n",
              "    </tr>\n",
              "  </thead>\n",
              "  <tbody>\n",
              "    <tr>\n",
              "      <th>414</th>\n",
              "      <td>1306</td>\n",
              "      <td>NaN</td>\n",
              "      <td>1</td>\n",
              "      <td>Oliva y Ocana, Dona. Fermina</td>\n",
              "      <td>female</td>\n",
              "      <td>39.0</td>\n",
              "      <td>0</td>\n",
              "      <td>0</td>\n",
              "      <td>PC 17758</td>\n",
              "      <td>108.9</td>\n",
              "      <td>C105</td>\n",
              "      <td>C</td>\n",
              "      <td>NaN</td>\n",
              "    </tr>\n",
              "  </tbody>\n",
              "</table>\n",
              "</div>"
            ],
            "text/plain": [
              "     PassengerId  Survived  Pclass  ... Cabin Embarked  Title\n",
              "414         1306       NaN       1  ...  C105        C    NaN\n",
              "\n",
              "[1 rows x 13 columns]"
            ]
          },
          "metadata": {
            "tags": []
          },
          "execution_count": 292
        }
      ]
    },
    {
      "cell_type": "code",
      "metadata": {
        "id": "NHhvCxdXbRac",
        "colab": {
          "base_uri": "https://localhost:8080/",
          "height": 0
        },
        "outputId": "a16fd210-a035-4a16-842c-963a425f4f99"
      },
      "source": [
        "# Process age\n",
        "grouped_train = combined_df.iloc[:891].groupby(['Sex', 'Pclass', 'Title'])\n",
        "grouped_median_train = grouped_train.median()\n",
        "grouped_median_train = grouped_median_train.reset_index()[['Sex', 'Pclass', 'Title', 'Age']]\n",
        "\n",
        "grouped_median_train.head()"
      ],
      "execution_count": 293,
      "outputs": [
        {
          "output_type": "execute_result",
          "data": {
            "text/html": [
              "<div>\n",
              "<style scoped>\n",
              "    .dataframe tbody tr th:only-of-type {\n",
              "        vertical-align: middle;\n",
              "    }\n",
              "\n",
              "    .dataframe tbody tr th {\n",
              "        vertical-align: top;\n",
              "    }\n",
              "\n",
              "    .dataframe thead th {\n",
              "        text-align: right;\n",
              "    }\n",
              "</style>\n",
              "<table border=\"1\" class=\"dataframe\">\n",
              "  <thead>\n",
              "    <tr style=\"text-align: right;\">\n",
              "      <th></th>\n",
              "      <th>Sex</th>\n",
              "      <th>Pclass</th>\n",
              "      <th>Title</th>\n",
              "      <th>Age</th>\n",
              "    </tr>\n",
              "  </thead>\n",
              "  <tbody>\n",
              "    <tr>\n",
              "      <th>0</th>\n",
              "      <td>female</td>\n",
              "      <td>1</td>\n",
              "      <td>Miss</td>\n",
              "      <td>30.0</td>\n",
              "    </tr>\n",
              "    <tr>\n",
              "      <th>1</th>\n",
              "      <td>female</td>\n",
              "      <td>1</td>\n",
              "      <td>Mrs</td>\n",
              "      <td>40.0</td>\n",
              "    </tr>\n",
              "    <tr>\n",
              "      <th>2</th>\n",
              "      <td>female</td>\n",
              "      <td>1</td>\n",
              "      <td>Officer</td>\n",
              "      <td>49.0</td>\n",
              "    </tr>\n",
              "    <tr>\n",
              "      <th>3</th>\n",
              "      <td>female</td>\n",
              "      <td>1</td>\n",
              "      <td>Royalty</td>\n",
              "      <td>40.5</td>\n",
              "    </tr>\n",
              "    <tr>\n",
              "      <th>4</th>\n",
              "      <td>female</td>\n",
              "      <td>2</td>\n",
              "      <td>Miss</td>\n",
              "      <td>24.0</td>\n",
              "    </tr>\n",
              "  </tbody>\n",
              "</table>\n",
              "</div>"
            ],
            "text/plain": [
              "      Sex  Pclass    Title   Age\n",
              "0  female       1     Miss  30.0\n",
              "1  female       1      Mrs  40.0\n",
              "2  female       1  Officer  49.0\n",
              "3  female       1  Royalty  40.5\n",
              "4  female       2     Miss  24.0"
            ]
          },
          "metadata": {
            "tags": []
          },
          "execution_count": 293
        }
      ]
    },
    {
      "cell_type": "code",
      "metadata": {
        "id": "2t50GAywb0bN"
      },
      "source": [
        "def fill_age(row):\n",
        "  condition = (\n",
        "      (grouped_median_train['Sex'] == row['Sex']) &\n",
        "      (grouped_median_train['Title'] == row['Title']) &\n",
        "      (grouped_median_train['Pclass'] == row['Pclass'])\n",
        "  )\n",
        "  return grouped_median_train[condition]['Age'].values[0]\n",
        "\n",
        "def process_age():\n",
        "  global combined_df\n",
        "  combined_df['Age'] = combined_df.apply(lambda row: fill_age(row) if np.isnan(row['Age']) else row['Age'], axis=1)\n",
        "  return combined_df\n",
        "\n",
        "combined_df = process_age()"
      ],
      "execution_count": 294,
      "outputs": []
    },
    {
      "cell_type": "code",
      "metadata": {
        "id": "94Jb0MNhcuJK",
        "colab": {
          "base_uri": "https://localhost:8080/",
          "height": 0
        },
        "outputId": "034e496a-9517-4a04-a6ae-c6dc0d78e842"
      },
      "source": [
        "# Process name & title\n",
        "def process_names():\n",
        "  global combined_df\n",
        "  combined_df.drop('Name', axis=1, inplace=True)\n",
        "\n",
        "  titles_dummies = pd.get_dummies(combined_df['Title'], prefix='Title')\n",
        "  combined_df = pd.concat([combined_df, titles_dummies], axis=1)\n",
        "\n",
        "  combined_df.drop('Title', axis=1, inplace=True)\n",
        "  return combined_df\n",
        "\n",
        "combined_df = process_names()\n",
        "combined_df.head(5)"
      ],
      "execution_count": 295,
      "outputs": [
        {
          "output_type": "execute_result",
          "data": {
            "text/html": [
              "<div>\n",
              "<style scoped>\n",
              "    .dataframe tbody tr th:only-of-type {\n",
              "        vertical-align: middle;\n",
              "    }\n",
              "\n",
              "    .dataframe tbody tr th {\n",
              "        vertical-align: top;\n",
              "    }\n",
              "\n",
              "    .dataframe thead th {\n",
              "        text-align: right;\n",
              "    }\n",
              "</style>\n",
              "<table border=\"1\" class=\"dataframe\">\n",
              "  <thead>\n",
              "    <tr style=\"text-align: right;\">\n",
              "      <th></th>\n",
              "      <th>PassengerId</th>\n",
              "      <th>Survived</th>\n",
              "      <th>Pclass</th>\n",
              "      <th>Sex</th>\n",
              "      <th>Age</th>\n",
              "      <th>SibSp</th>\n",
              "      <th>Parch</th>\n",
              "      <th>Ticket</th>\n",
              "      <th>Fare</th>\n",
              "      <th>Cabin</th>\n",
              "      <th>Embarked</th>\n",
              "      <th>Title_Master</th>\n",
              "      <th>Title_Miss</th>\n",
              "      <th>Title_Mr</th>\n",
              "      <th>Title_Mrs</th>\n",
              "      <th>Title_Officer</th>\n",
              "      <th>Title_Royalty</th>\n",
              "    </tr>\n",
              "  </thead>\n",
              "  <tbody>\n",
              "    <tr>\n",
              "      <th>0</th>\n",
              "      <td>1</td>\n",
              "      <td>0.0</td>\n",
              "      <td>3</td>\n",
              "      <td>male</td>\n",
              "      <td>22.0</td>\n",
              "      <td>1</td>\n",
              "      <td>0</td>\n",
              "      <td>A/5 21171</td>\n",
              "      <td>7.2500</td>\n",
              "      <td>NaN</td>\n",
              "      <td>S</td>\n",
              "      <td>0</td>\n",
              "      <td>0</td>\n",
              "      <td>1</td>\n",
              "      <td>0</td>\n",
              "      <td>0</td>\n",
              "      <td>0</td>\n",
              "    </tr>\n",
              "    <tr>\n",
              "      <th>1</th>\n",
              "      <td>2</td>\n",
              "      <td>1.0</td>\n",
              "      <td>1</td>\n",
              "      <td>female</td>\n",
              "      <td>38.0</td>\n",
              "      <td>1</td>\n",
              "      <td>0</td>\n",
              "      <td>PC 17599</td>\n",
              "      <td>71.2833</td>\n",
              "      <td>C85</td>\n",
              "      <td>C</td>\n",
              "      <td>0</td>\n",
              "      <td>0</td>\n",
              "      <td>0</td>\n",
              "      <td>1</td>\n",
              "      <td>0</td>\n",
              "      <td>0</td>\n",
              "    </tr>\n",
              "    <tr>\n",
              "      <th>2</th>\n",
              "      <td>3</td>\n",
              "      <td>1.0</td>\n",
              "      <td>3</td>\n",
              "      <td>female</td>\n",
              "      <td>26.0</td>\n",
              "      <td>0</td>\n",
              "      <td>0</td>\n",
              "      <td>STON/O2. 3101282</td>\n",
              "      <td>7.9250</td>\n",
              "      <td>NaN</td>\n",
              "      <td>S</td>\n",
              "      <td>0</td>\n",
              "      <td>1</td>\n",
              "      <td>0</td>\n",
              "      <td>0</td>\n",
              "      <td>0</td>\n",
              "      <td>0</td>\n",
              "    </tr>\n",
              "    <tr>\n",
              "      <th>3</th>\n",
              "      <td>4</td>\n",
              "      <td>1.0</td>\n",
              "      <td>1</td>\n",
              "      <td>female</td>\n",
              "      <td>35.0</td>\n",
              "      <td>1</td>\n",
              "      <td>0</td>\n",
              "      <td>113803</td>\n",
              "      <td>53.1000</td>\n",
              "      <td>C123</td>\n",
              "      <td>S</td>\n",
              "      <td>0</td>\n",
              "      <td>0</td>\n",
              "      <td>0</td>\n",
              "      <td>1</td>\n",
              "      <td>0</td>\n",
              "      <td>0</td>\n",
              "    </tr>\n",
              "    <tr>\n",
              "      <th>4</th>\n",
              "      <td>5</td>\n",
              "      <td>0.0</td>\n",
              "      <td>3</td>\n",
              "      <td>male</td>\n",
              "      <td>35.0</td>\n",
              "      <td>0</td>\n",
              "      <td>0</td>\n",
              "      <td>373450</td>\n",
              "      <td>8.0500</td>\n",
              "      <td>NaN</td>\n",
              "      <td>S</td>\n",
              "      <td>0</td>\n",
              "      <td>0</td>\n",
              "      <td>1</td>\n",
              "      <td>0</td>\n",
              "      <td>0</td>\n",
              "      <td>0</td>\n",
              "    </tr>\n",
              "  </tbody>\n",
              "</table>\n",
              "</div>"
            ],
            "text/plain": [
              "   PassengerId  Survived  Pclass  ... Title_Mrs  Title_Officer  Title_Royalty\n",
              "0            1       0.0       3  ...         0              0              0\n",
              "1            2       1.0       1  ...         1              0              0\n",
              "2            3       1.0       3  ...         0              0              0\n",
              "3            4       1.0       1  ...         1              0              0\n",
              "4            5       0.0       3  ...         0              0              0\n",
              "\n",
              "[5 rows x 17 columns]"
            ]
          },
          "metadata": {
            "tags": []
          },
          "execution_count": 295
        }
      ]
    },
    {
      "cell_type": "code",
      "metadata": {
        "id": "x46yx7RsLBFi",
        "colab": {
          "base_uri": "https://localhost:8080/"
        },
        "outputId": "2de983b5-b2e8-4395-a587-5984dcb70d09"
      },
      "source": [
        "# transfer sex string to integer\n",
        "def process_sex():\n",
        "  global combined_df\n",
        "  combined_df['Sex_Code'] = combined_df['Sex'].map({'female': 1, 'male': 0}).astype('int')\n",
        "  return combined_df\n",
        "\n",
        "combined_df = process_sex()\n",
        "print(combined_df.head(5))"
      ],
      "execution_count": 296,
      "outputs": [
        {
          "output_type": "stream",
          "text": [
            "   PassengerId  Survived  Pclass  ... Title_Officer  Title_Royalty  Sex_Code\n",
            "0            1       0.0       3  ...             0              0         0\n",
            "1            2       1.0       1  ...             0              0         1\n",
            "2            3       1.0       3  ...             0              0         1\n",
            "3            4       1.0       1  ...             0              0         1\n",
            "4            5       0.0       3  ...             0              0         0\n",
            "\n",
            "[5 rows x 18 columns]\n"
          ],
          "name": "stdout"
        }
      ]
    },
    {
      "cell_type": "code",
      "metadata": {
        "id": "zU-jJ2V7Ru28"
      },
      "source": [
        "def process_embarked():\n",
        "  global combined_df\n",
        "  # fill embarked na with S\n",
        "  combined_df['Embarked'] = combined_df['Embarked'].fillna('S')\n",
        "\n",
        "  # replace categorical values with dummy variables\n",
        "  embarked_dummies = pd.get_dummies(combined_df['Embarked'], prefix='Embarked')\n",
        "  combined_df = pd.concat([combined_df, embarked_dummies], axis=1)\n",
        "  return combined_df\n",
        "\n",
        "combined_df = process_embarked()"
      ],
      "execution_count": 297,
      "outputs": []
    },
    {
      "cell_type": "code",
      "metadata": {
        "id": "eyzPlUyWR_SA"
      },
      "source": [
        "def process_fare():\n",
        "  global combined_df\n",
        "  # fill 1 missing fare with mean\n",
        "  combined_df['Fare'] = combined_df['Fare'].fillna(train_df['Fare'].mean())\n",
        "  return combined_df\n",
        "\n",
        "combined_df = process_fare()"
      ],
      "execution_count": 298,
      "outputs": []
    },
    {
      "cell_type": "code",
      "metadata": {
        "colab": {
          "base_uri": "https://localhost:8080/"
        },
        "id": "iNZCvEV7NS23",
        "outputId": "94e41558-8d79-4092-ccf7-4754d9e62a35"
      },
      "source": [
        "combined_df_head = combined_df.head(5)\n",
        "\n",
        "print(combined_df.columns.tolist())\n",
        "# print(train_df.describe())\n",
        "# print(test_df.describe())\n",
        "# print(combined_df.describe())"
      ],
      "execution_count": 299,
      "outputs": [
        {
          "output_type": "stream",
          "text": [
            "['PassengerId', 'Survived', 'Pclass', 'Sex', 'Age', 'SibSp', 'Parch', 'Ticket', 'Fare', 'Cabin', 'Embarked', 'Title_Master', 'Title_Miss', 'Title_Mr', 'Title_Mrs', 'Title_Officer', 'Title_Royalty', 'Sex_Code', 'Embarked_C', 'Embarked_Q', 'Embarked_S']\n"
          ],
          "name": "stdout"
        }
      ]
    },
    {
      "cell_type": "code",
      "metadata": {
        "id": "AjDbCkdlN7Zx",
        "colab": {
          "base_uri": "https://localhost:8080/"
        },
        "outputId": "5ec15787-adb7-45ba-b2d1-b33819507753"
      },
      "source": [
        "# missing values\n",
        "def missing_values(column_name):\n",
        "  global combined_df\n",
        "  return combined_df[column_name].isnull().sum()\n",
        "\n",
        "print(missing_values('Age'))\n",
        "print(missing_values('Pclass'))\n",
        "print(missing_values('SibSp'))\n",
        "print(missing_values('Parch'))\n",
        "print(missing_values('Fare'))\n",
        "print(missing_values('Sex_Code'))"
      ],
      "execution_count": 300,
      "outputs": [
        {
          "output_type": "stream",
          "text": [
            "0\n",
            "0\n",
            "0\n",
            "0\n",
            "0\n",
            "0\n"
          ],
          "name": "stdout"
        }
      ]
    },
    {
      "cell_type": "code",
      "metadata": {
        "id": "5YWuwQ0PVRJT"
      },
      "source": [
        "# not yet: ticket, family size, cabin"
      ],
      "execution_count": 301,
      "outputs": []
    },
    {
      "cell_type": "markdown",
      "metadata": {
        "id": "_XRHcbgvOsby"
      },
      "source": [
        "# Model Training"
      ]
    },
    {
      "cell_type": "code",
      "metadata": {
        "id": "R9hJvUvFLVcx"
      },
      "source": [
        "# extract training set from combined dataframe\n",
        "x = combined_df[:891].drop(labels=['Survived', 'PassengerId', 'Sex'], axis=1)\n",
        "y = combined_df[:891]['Survived']\n",
        "# x.describe()"
      ],
      "execution_count": 302,
      "outputs": []
    },
    {
      "cell_type": "code",
      "metadata": {
        "id": "vTa_inoEfhwY"
      },
      "source": [
        "x_test = combined_df[891::].drop(labels=['Survived', 'PassengerId', 'Sex'], axis=1)\n",
        "y_test = combined_df[891::]['Survived']\n",
        "# x_test.describe()"
      ],
      "execution_count": 303,
      "outputs": []
    },
    {
      "cell_type": "code",
      "metadata": {
        "id": "KLWsIBe4dCKA"
      },
      "source": [
        "# Algorithms\n",
        "# used\n",
        "from sklearn.ensemble import RandomForestClassifier\n",
        "from sklearn.tree import DecisionTreeClassifier\n",
        "from sklearn.neighbors import KNeighborsClassifier\n",
        "from sklearn.linear_model import Perceptron\n",
        "from sklearn.linear_model import LogisticRegression\n",
        "# non-used\n",
        "from sklearn import linear_model\n",
        "from sklearn.linear_model import SGDClassifier\n",
        "from sklearn.svm import SVC, LinearSVC\n",
        "from sklearn.naive_bayes import GaussianNB\n",
        "\n",
        "# hyper-parameter\n",
        "from sklearn.model_selection import GridSearchCV\n",
        "\n",
        "# data split\n",
        "from sklearn.model_selection import train_test_split\n",
        "# val\n",
        "from sklearn.model_selection import cross_val_score\n",
        "Base = ['Sex_Code', 'Pclass', 'Embarked_S', 'Embarked_Q', 'Fare', 'Parch', 'SibSp', 'Age']"
      ],
      "execution_count": 304,
      "outputs": []
    },
    {
      "cell_type": "code",
      "metadata": {
        "id": "c-BvOM9QGrp8"
      },
      "source": [
        "def compute_score(clf, x, y, scoring='accuracy'):\n",
        "    xval = cross_val_score(clf, x, y, cv = 5, scoring=scoring)\n",
        "    return np.mean(xval)"
      ],
      "execution_count": 305,
      "outputs": []
    },
    {
      "cell_type": "code",
      "metadata": {
        "id": "vMV93-qh92YW"
      },
      "source": [
        "# split training & validation data\n",
        "x_train, x_val, y_train, y_val = train_test_split(x, y, test_size = 0.3, random_state = 42)\n",
        "# x_train.describe()"
      ],
      "execution_count": 306,
      "outputs": []
    },
    {
      "cell_type": "code",
      "metadata": {
        "colab": {
          "base_uri": "https://localhost:8080/"
        },
        "id": "ofE4sQJaP1F8",
        "outputId": "584d7e87-3ff2-4a31-a049-fd85b375dfb0"
      },
      "source": [
        "random_forest = RandomForestClassifier(random_state=2, n_estimators=250, min_samples_split=20, oob_score=True)\n",
        "decision_tree = DecisionTreeClassifier(random_state=2)\n",
        "knn = KNeighborsClassifier()\n",
        "perceptron = Perceptron(random_state=2)\n",
        "log_reg = LogisticRegression(random_state=2, max_iter=200)\n",
        "\n",
        "models = [random_forest, decision_tree, knn, perceptron, log_reg]\n",
        "\n",
        "for model in models:\n",
        "  print('Cross-validation of : {0}'.format(model.__class__))\n",
        "  score = compute_score(clf=model, x=x[Base], y=y, scoring='accuracy')\n",
        "  print('CV score = {0}'.format(score))\n",
        "  print('****')"
      ],
      "execution_count": 307,
      "outputs": [
        {
          "output_type": "stream",
          "text": [
            "Cross-validation of : <class 'sklearn.ensemble._forest.RandomForestClassifier'>\n",
            "CV score = 0.8148389931579938\n",
            "****\n",
            "Cross-validation of : <class 'sklearn.tree._classes.DecisionTreeClassifier'>\n",
            "CV score = 0.767698198480949\n",
            "****\n",
            "Cross-validation of : <class 'sklearn.neighbors._classification.KNeighborsClassifier'>\n",
            "CV score = 0.682417927311531\n",
            "****\n",
            "Cross-validation of : <class 'sklearn.linear_model._perceptron.Perceptron'>\n",
            "CV score = 0.6981859268093654\n",
            "****\n",
            "Cross-validation of : <class 'sklearn.linear_model._logistic.LogisticRegression'>\n",
            "CV score = 0.8002573598644153\n",
            "****\n"
          ],
          "name": "stdout"
        }
      ]
    },
    {
      "cell_type": "code",
      "metadata": {
        "colab": {
          "base_uri": "https://localhost:8080/"
        },
        "id": "fpGyWHk9RJAO",
        "outputId": "eb25fe33-fffb-43f8-c8ca-235ce504822d"
      },
      "source": [
        "# find the best hyper-parameter for decision tree\n",
        "param_grid = {'min_samples_leaf':np.arange(20,50,5),\n",
        "              'min_samples_split':np.arange(20,50,5),\n",
        "              'max_depth':np.arange(3,6),\n",
        "              'min_weight_fraction_leaf':np.arange(0,0.4,0.1),\n",
        "              'criterion':['gini','entropy']}\n",
        "decision_tree = DecisionTreeClassifier(random_state=2)\n",
        "tree_search = GridSearchCV(decision_tree, param_grid)\n",
        "\n",
        "tree_search.fit(x[Base],y)\n",
        "\n",
        "print(\"Tree best parameters :\",tree_search.best_params_)\n",
        "print(\"Tree best estimator :\",tree_search.best_estimator_ )\n",
        "print(\"Tree best score :\",tree_search.best_score_ )"
      ],
      "execution_count": 308,
      "outputs": [
        {
          "output_type": "stream",
          "text": [
            "Tree best parameters : {'criterion': 'entropy', 'max_depth': 3, 'min_samples_leaf': 20, 'min_samples_split': 20, 'min_weight_fraction_leaf': 0.0}\n",
            "Tree best estimator : DecisionTreeClassifier(ccp_alpha=0.0, class_weight=None, criterion='entropy',\n",
            "                       max_depth=3, max_features=None, max_leaf_nodes=None,\n",
            "                       min_impurity_decrease=0.0, min_impurity_split=None,\n",
            "                       min_samples_leaf=20, min_samples_split=20,\n",
            "                       min_weight_fraction_leaf=0.0, presort='deprecated',\n",
            "                       random_state=2, splitter='best')\n",
            "Tree best score : 0.8091833532107213\n"
          ],
          "name": "stdout"
        }
      ]
    },
    {
      "cell_type": "code",
      "metadata": {
        "colab": {
          "base_uri": "https://localhost:8080/"
        },
        "id": "NB9hdEc-SHmG",
        "outputId": "a540efe3-eab8-4b55-96b1-3c1e081bfa16"
      },
      "source": [
        "# find the best hyper-parameter for random forest\n",
        "param_grid = {'n_estimators':np.arange(50,250,50),\n",
        "              'max_depth':np.arange(3,6),\n",
        "              'min_weight_fraction_leaf':np.arange(0,0.4,0.1),\n",
        "              'min_samples_split':np.arange(2,26,4),\n",
        "              'criterion':['gini','entropy']}\n",
        "random_forest = RandomForestClassifier(random_state=2)\n",
        "forest_search = GridSearchCV(random_forest, param_grid)\n",
        "\n",
        "forest_search.fit(x[Base],y)\n",
        "\n",
        "print(\"forest best parameters :\",forest_search.best_params_)\n",
        "print(\"forest best estimator :\",forest_search.best_estimator_ )\n",
        "print(\"forest best score :\",forest_search.best_score_ )"
      ],
      "execution_count": 309,
      "outputs": [
        {
          "output_type": "stream",
          "text": [
            "forest best parameters : {'criterion': 'gini', 'max_depth': 5, 'min_samples_split': 6, 'min_weight_fraction_leaf': 0.0, 'n_estimators': 50}\n",
            "forest best estimator : RandomForestClassifier(bootstrap=True, ccp_alpha=0.0, class_weight=None,\n",
            "                       criterion='gini', max_depth=5, max_features='auto',\n",
            "                       max_leaf_nodes=None, max_samples=None,\n",
            "                       min_impurity_decrease=0.0, min_impurity_split=None,\n",
            "                       min_samples_leaf=1, min_samples_split=6,\n",
            "                       min_weight_fraction_leaf=0.0, n_estimators=50,\n",
            "                       n_jobs=None, oob_score=False, random_state=2, verbose=0,\n",
            "                       warm_start=False)\n",
            "forest best score : 0.8327851358985624\n"
          ],
          "name": "stdout"
        }
      ]
    },
    {
      "cell_type": "code",
      "metadata": {
        "id": "Mho1Enwbip7-"
      },
      "source": [
        "# feature plot\n",
        "random_forest = RandomForestClassifier(n_estimators=50, max_features='sqrt')\n",
        "random_forest = random_forest.fit(x[Base], y)\n",
        "\n",
        "features = pd.DataFrame()\n",
        "features['feature'] = x[Base].columns\n",
        "features['importance'] = random_forest.feature_importances_\n",
        "features.sort_values(by=['importance'], ascending=True, inplace=True)\n",
        "features.set_index('feature', inplace=True)\n",
        "\n",
        "# features.plot(kind='barh', figsize=(25, 25))"
      ],
      "execution_count": 310,
      "outputs": []
    },
    {
      "cell_type": "markdown",
      "metadata": {
        "id": "1ouaTSa-xQVJ"
      },
      "source": [
        "# User Interface Function"
      ]
    },
    {
      "cell_type": "code",
      "metadata": {
        "id": "9IAky7TIYmQd"
      },
      "source": [
        "class Model:\n",
        "\n",
        "  def fit(x, y):\n",
        "    pass\n",
        "\n",
        "  def compute_score(x, y, scoring):\n",
        "    pass\n",
        "\n",
        "class DecisionTreeModel(Model):\n",
        "\n",
        "  def __init__(self, depth, split, leaf):\n",
        "    self.decision_tree = DecisionTreeClassifier(random_state=2, max_depth=depth, min_samples_split=split, min_samples_leaf=leaf)\n",
        "  def fit(self, x, y):\n",
        "    self.model = self.decision_tree.fit(x, y)\n",
        "\n",
        "  def compute_score(self, x, y, scoring):\n",
        "    xval = cross_val_score(self.decision_tree, x, y, cv = 5, scoring=scoring)\n",
        "    print(np.mean(xval))\n",
        "\n",
        "\n",
        "class RandomForestModel(Model):\n",
        "  def __init__(self, depth, estimator, split):\n",
        "    self.random_forest = RandomForestClassifier(random_state=2, max_depth=depth, n_estimators=estimator, min_samples_split=split, oob_score=True, criterion='gini')\n",
        "\n",
        "  def fit(self, x, y):\n",
        "    self.model = self.random_forest.fit(x, y)\n",
        "\n",
        "  def compute_score(self, x, y, scoring):\n",
        "    xval = cross_val_score(self.random_forest, x, y, cv = 5, scoring=scoring)\n",
        "    print(np.mean(xval))"
      ],
      "execution_count": 311,
      "outputs": []
    },
    {
      "cell_type": "code",
      "metadata": {
        "id": "MiaU2clCPQpE"
      },
      "source": [
        "def set_up_decision_tree_model():\n",
        "  param_choice = input(\"Use my default options for the decision tree? [y/n]\\n\")\n",
        "  if (param_choice.lower().startswith(\"y\")):\n",
        "    print(\"My default options: max_depth: 3, min_samples_split: 20, min_samples_leaf: 20\")\n",
        "    return DecisionTreeModel(3, 20, 20)\n",
        "  elif (param_choice.lower().startswith(\"n\")):\n",
        "    depth = input(\"What is the maximum depth of the tree (default=5)?\\n\")\n",
        "    split = input(\"What is the minimum number of samples required to split an internal node (default=20)?\\n\")\n",
        "    leaf = input(\"What is the minimum number of samples required to be at a leaf node (default=25)?\\n\")\n",
        "    return DecisionTreeModel(int(depth), int(split), int(leaf))\n",
        "  else:\n",
        "    print(f\"{param_choice} is an invalid choice.\")\n",
        "    return set_up_decision_tree_model()\n",
        "\n",
        "def set_up_random_forest_model():\n",
        "  param_choice = input(\"Use my default options for the random forest? [y/n]\\n\")\n",
        "  if (param_choice.lower().startswith(\"y\")):\n",
        "    print(\"My default options: max_depth': 5, n_estimators: 50, min_samples_split: 6\")\n",
        "    return RandomForestModel(5, 50, 6)\n",
        "  elif (param_choice.lower().startswith(\"n\")):\n",
        "    depth = input(\"What is the maximum depth of the tree (default=5)?\\n\")\n",
        "    estimator = input(\"How many trees in the forest (default=100)?\\n\")\n",
        "    split = input(\"What is the minimum number of samples required to split an internal node (default=6)?\\n\")\n",
        "    return RandomForestModel(int(depth), int(estimator), int(split))\n",
        "  else:\n",
        "    print(f\"{param_choice} is an invalid choice.\")\n",
        "    return set_up_random_forest_model()\n",
        "\n",
        "model_options = {\n",
        "    '1': set_up_decision_tree_model,\n",
        "    '2': set_up_random_forest_model\n",
        "}\n",
        "\n",
        "def choose_model():\n",
        "  choice = input(\"Choose a model: \\n1. Decision tree\\n2. Random Forest\\n\")\n",
        "  model_func = model_options.get(choice)\n",
        "  if (model_func == None):\n",
        "    print(f\"{choice} is an invalid choice!\\n\")\n",
        "    return choose_model()\n",
        "  return model_func()\n",
        "\n",
        "def main_model():\n",
        "  play = True\n",
        "  while (play):\n",
        "    model = choose_model()\n",
        "    print('Computing cross-validation accuracy score...')\n",
        "    model.fit(x[Base], y)\n",
        "    model.compute_score(x[Base], y, 'accuracy')\n",
        "    play = input(\"Try another model? [y/n] \").lower().startswith(\"y\")\n",
        "    print(\"\")\n",
        "  # print(\"Bye\")\n"
      ],
      "execution_count": 312,
      "outputs": []
    },
    {
      "cell_type": "code",
      "metadata": {
        "colab": {
          "base_uri": "https://localhost:8080/"
        },
        "id": "yxPMiUd3xTqs",
        "outputId": "63c57493-2f26-4cf2-f20d-c9a96dde7afb"
      },
      "source": [
        "def main():\n",
        "  exit = False\n",
        "  print('This app walks you through how I build the machine learning model \\nto make prediction for one of the most well-known challenges on Kaggle.')\n",
        "  print('***')\n",
        "\n",
        "  while exit == False:\n",
        "    print('MAIN MENU')\n",
        "    print('0. What is this challenge about?')\n",
        "    print('1. Learn my process')\n",
        "    print('2. Try your own model')\n",
        "    print('3. Help')\n",
        "    print('4. Exit')\n",
        "    print('***')\n",
        "    choice = input('What do you want to look at?\\n')\n",
        "    if choice == '0':\n",
        "      print('[What is this challenge about?]')\n",
        "      print('This challenge wants you to use machine learning to create a model \\nthat predicts which passengers survived the Titanic shipwreck.')\n",
        "      print('https://www.kaggle.com/c/titanic')\n",
        "      print('')\n",
        "      exit = input(\"Back to main menu? [y/n] \").lower().startswith(\"n\")\n",
        "\n",
        "    if choice == '1':\n",
        "      print('[1st step: setting up]')\n",
        "      print('I imported the dataset and had a glimpse of the dataset.\\n')\n",
        "      # print(train_des)\n",
        "      # print('as well as its missing values:')\n",
        "      # print(total)\n",
        "      print('[2nd step: data analysis]')\n",
        "      print('I visualized the data to investigate possible factors that affect survival rate.\\n')\n",
        "      # plt.bar(['female', 'male'], survived, color='g')\n",
        "      # plt.bar(['female', 'male'], died, color='r', bottom=survived)\n",
        "      # plt.show()\n",
        "      # print('From this graph, we can tell gender might be a factor because female tends to survive than male.')\n",
        "      print('[3rd step: feature engineering]')\n",
        "      print('I did feature engineering to make the dataset prepared for model training,')\n",
        "      print('and this includes filling missing values and converting strings into integers.\\n')\n",
        "      # print(combined_df_head)\n",
        "      print('[4th step: model training]')\n",
        "      print('I tried different models and optimized hyperparameters to find the best options to build my machine learning model.\\n')\n",
        "\n",
        "      exit = input(\"Back to main menu? [y/n] \").lower().startswith(\"n\")\n",
        "\n",
        "    if choice == '2':\n",
        "      main_model()\n",
        "      exit = input(\"Back to main menu? [y/n] \").lower().startswith(\"n\")\n",
        "    if choice == '3':\n",
        "      print('help text\\n')\n",
        "      exit = input(\"Back to main menu? [y/n] \").lower().startswith(\"n\")\n",
        "    if choice == '4':\n",
        "      exit = True\n",
        "      break\n",
        "  print('See you next time!')\n",
        "main()"
      ],
      "execution_count": 313,
      "outputs": [
        {
          "output_type": "stream",
          "text": [
            "This app walks you through how I build the machine learning model \n",
            "to make prediction for one of the most well-known challenges on Kaggle.\n",
            "***\n",
            "MAIN MENU\n",
            "0. What is this challenge about?\n",
            "1. Learn my process\n",
            "2. Try your own model\n",
            "3. Help\n",
            "4. Exit\n",
            "***\n",
            "What do you want to look at?\n",
            "4\n",
            "See you next time!\n"
          ],
          "name": "stdout"
        }
      ]
    },
    {
      "cell_type": "markdown",
      "metadata": {
        "id": "ZNDgjnyXRMpX"
      },
      "source": [
        "# Reference"
      ]
    },
    {
      "cell_type": "markdown",
      "metadata": {
        "id": "8dOPajYiRO8t"
      },
      "source": [
        "https://medium.com/datadriveninvestor/start-with-kaggle-a-comprehensive-guide-to-solve-the-titanic-challenge-8ac5815b0473\n",
        "https://www.kaggle.com/viczyf/titanic-random-forest-82-78"
      ]
    }
  ]
}